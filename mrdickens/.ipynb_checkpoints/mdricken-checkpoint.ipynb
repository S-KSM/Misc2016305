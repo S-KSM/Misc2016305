{
 "cells": [
  {
   "cell_type": "code",
   "execution_count": 25,
   "metadata": {
    "collapsed": true
   },
   "outputs": [],
   "source": []
  },
  {
   "cell_type": "code",
   "execution_count": 35,
   "metadata": {
    "collapsed": true
   },
   "outputs": [],
   "source": [
    "import requests\n",
    "import pandas as pd\n",
    "from bs4 import BeautifulSoup\n",
    "import re\n",
    "import glob\n",
    "import os\n",
    "\n",
    "path = \"*.html\""
   ]
  },
  {
   "cell_type": "code",
   "execution_count": 36,
   "metadata": {
    "collapsed": false
   },
   "outputs": [
    {
     "name": "stdout",
     "output_type": "stream",
     "text": [
      "387\n"
     ]
    },
    {
     "data": {
      "text/plain": [
       "'http://cedarrapids.iowaassessors.com/sale.php?gid=431272&sid=135'"
      ]
     },
     "execution_count": 36,
     "metadata": {},
     "output_type": "execute_result"
    }
   ],
   "source": [
    "lookupUrl = []\n",
    "for file in glob.glob(path):\n",
    "    f = open(file,'r')\n",
    "    soup = BeautifulSoup(f,\"lxml\")\n",
    "    #print(soup.prettify())\n",
    "    for links in soup.findAll(\"a\"):\n",
    "        if 'sale.php?' in links.get(\"href\"): \n",
    "            if not links.get(\"href\")in lookupUrl:lookupUrl.append(links.get(\"href\"))\n",
    "print(len(lookupUrl))\n",
    "lookupUrl[10]"
   ]
  },
  {
   "cell_type": "code",
   "execution_count": 49,
   "metadata": {
    "collapsed": false
   },
   "outputs": [
    {
     "ename": "KeyError",
     "evalue": "'Street Address:'",
     "output_type": "error",
     "traceback": [
      "\u001b[1;31m---------------------------------------------------------------------------\u001b[0m",
      "\u001b[1;31mKeyError\u001b[0m                                  Traceback (most recent call last)",
      "\u001b[1;32m<ipython-input-49-eabf14d4dd47>\u001b[0m in \u001b[0;36m<module>\u001b[1;34m()\u001b[0m\n\u001b[0;32m     32\u001b[0m         \u001b[0mi\u001b[0m \u001b[1;33m+=\u001b[0m \u001b[1;36m1\u001b[0m\u001b[1;33m\u001b[0m\u001b[0m\n\u001b[0;32m     33\u001b[0m     \u001b[0mdata\u001b[0m\u001b[1;33m[\u001b[0m\u001b[1;34m'City'\u001b[0m\u001b[1;33m]\u001b[0m \u001b[1;33m=\u001b[0m \u001b[1;34m\"CEDAR RAPIDS\"\u001b[0m\u001b[1;33m\u001b[0m\u001b[0m\n\u001b[1;32m---> 34\u001b[1;33m     \u001b[0mStreet_Address\u001b[0m \u001b[1;33m=\u001b[0m \u001b[0mdata\u001b[0m\u001b[1;33m[\u001b[0m\u001b[1;34m'Street Address:'\u001b[0m\u001b[1;33m]\u001b[0m\u001b[1;33m\u001b[0m\u001b[0m\n\u001b[0m\u001b[0;32m     35\u001b[0m     \u001b[0mDeedholder\u001b[0m \u001b[1;33m=\u001b[0m \u001b[0mdata\u001b[0m\u001b[1;33m[\u001b[0m\u001b[1;34m'Deedholder:'\u001b[0m\u001b[1;33m]\u001b[0m\u001b[1;33m\u001b[0m\u001b[0m\n\u001b[0;32m     36\u001b[0m     \u001b[0mCity\u001b[0m \u001b[1;33m=\u001b[0m \u001b[0mdata\u001b[0m\u001b[1;33m[\u001b[0m\u001b[1;34m'City'\u001b[0m\u001b[1;33m]\u001b[0m\u001b[1;33m\u001b[0m\u001b[0m\n",
      "\u001b[1;31mKeyError\u001b[0m: 'Street Address:'"
     ]
    }
   ],
   "source": [
    "output = open(\"output.csv\",'w')\n",
    "def Bedrooms(x):\n",
    "    x = x.replace(' ','').split(sep = '/')\n",
    "    y = [int(w) for w in x]\n",
    "    return(sum(y))\n",
    "headers = {}\n",
    "headers['User-Agent'] = \"Mozilla/5.0 (X11; Linux i686) AppleWebKit/537.17 (KHTML, like Gecko) Chrome/24.0.1312.27 Safari/537.17\"\n",
    "\n",
    "output.write('Street_Address'+','+'Deedholder'+','+\n",
    "             'City'+','+'Bedrooms'+','+'Garage'+','+'House Type'+','+\n",
    "             'Central A/C'+','+'TLA'+','+\n",
    "             'Lot Size'+','+'Year Built'+','+\n",
    "             'Condition'+','+\n",
    "             'Sale Date'+','+'Sale Amount'+','+\n",
    "             'Assessed Value'+','+'Sale Type')\n",
    "my_data = {}\n",
    "for item in lookupUrl:\n",
    "\n",
    "    url = item\n",
    "    response = requests.get(url,headers=headers)\n",
    "    #response.content\n",
    "    mycontent = response.text\n",
    "    soup = BeautifulSoup(mycontent,\"lxml\")\n",
    "    #print(soup.prettify())\n",
    "    my_soup1 = soup.find_all('div',{'class': 's_label'})\n",
    "    my_soup2 = soup.find_all('div',{'class': 's_data'})\n",
    "\n",
    "    data = {}\n",
    "    i = 0\n",
    "    for label in my_soup1:\n",
    "        data[label.text] = my_soup2[i].text\n",
    "        i += 1\n",
    "    data['City'] = \"CEDAR RAPIDS\"\n",
    "    Street_Address = data['Street Address:']\n",
    "    Deedholder = data['Deedholder:']\n",
    "    City = data['City']\n",
    "    Bedrooms(data['Bedrooms Above / Below:'])\n",
    "    Garage = int((data['Detached Garage Area:']).replace(\",\",\"\")) + int((data['Attached Garage Area:']).replace(\",\",\"\"))\n",
    "    HouseType = data['Style:']\n",
    "    Lot_Size = data['Land:']\n",
    "    TLA = data['Total Living Area (TLA):']\n",
    "    \n",
    "    Sale_Amount = data['Amount:']\n",
    "    my_data[item] = data\n",
    "\n",
    "\n",
    "output.close()"
   ]
  },
  {
   "cell_type": "code",
   "execution_count": 15,
   "metadata": {
    "collapsed": false
   },
   "outputs": [],
   "source": [
    "col_names = ['Street Address','Deedholder',\n",
    "             'City','Bedrooms','Garage','House Type',\n",
    "             'Foundation','Central A/C','TLA',\n",
    "             'Lot Size','Year Built',\n",
    "             'Amenities','Condition',\n",
    "             'Sale Date','Sale Amount',\n",
    "             'Assessed Value','Sale Type']"
   ]
  },
  {
   "cell_type": "code",
   "execution_count": 28,
   "metadata": {
    "collapsed": false
   },
   "outputs": [
    {
     "data": {
      "text/plain": [
       "336"
      ]
     },
     "execution_count": 28,
     "metadata": {},
     "output_type": "execute_result"
    }
   ],
   "source": [
    "def Bedrooms(x):\n",
    "    x = x.replace(' ','').split(sep = '/')\n",
    "    y = [int(w) for w in x]\n",
    "    return(sum(y))\n",
    "Bedrooms(data['Bedrooms Above / Below:'])\n",
    "\n",
    "Garage = int(data['Detached Garage Area:']) + int(data['Attached Garage Area:'])\n",
    "HouseType = data['Style:']\n",
    "TLA = data['Total Living Area (TLA):']\n",
    "Lot_Size = data['Land:']\n",
    "Sale_Amount = data['Amount:']"
   ]
  },
  {
   "cell_type": "code",
   "execution_count": 32,
   "metadata": {
    "collapsed": false
   },
   "outputs": [
    {
     "data": {
      "text/plain": [
       "{'City': 'CEDAR RAPIDS'}"
      ]
     },
     "execution_count": 32,
     "metadata": {},
     "output_type": "execute_result"
    }
   ],
   "source": [
    "data"
   ]
  },
  {
   "cell_type": "code",
   "execution_count": 34,
   "metadata": {
    "collapsed": true
   },
   "outputs": [],
   "source": [
    "??\n",
    "requests.get"
   ]
  },
  {
   "cell_type": "code",
   "execution_count": 47,
   "metadata": {
    "collapsed": false
   },
   "outputs": [],
   "source": [
    "a= \"1,234\""
   ]
  },
  {
   "cell_type": "code",
   "execution_count": 48,
   "metadata": {
    "collapsed": false
   },
   "outputs": [
    {
     "data": {
      "text/plain": [
       "'1234'"
      ]
     },
     "execution_count": 48,
     "metadata": {},
     "output_type": "execute_result"
    }
   ],
   "source": [
    "a.replace(\",\",\"\")"
   ]
  },
  {
   "cell_type": "code",
   "execution_count": null,
   "metadata": {
    "collapsed": true
   },
   "outputs": [],
   "source": []
  }
 ],
 "metadata": {
  "kernelspec": {
   "display_name": "Python 3",
   "language": "python",
   "name": "python3"
  },
  "language_info": {
   "codemirror_mode": {
    "name": "ipython",
    "version": 3
   },
   "file_extension": ".py",
   "mimetype": "text/x-python",
   "name": "python",
   "nbconvert_exporter": "python",
   "pygments_lexer": "ipython3",
   "version": "3.5.1"
  }
 },
 "nbformat": 4,
 "nbformat_minor": 0
}
