{
 "cells": [
  {
   "cell_type": "code",
   "execution_count": 1,
   "metadata": {
    "collapsed": true
   },
   "outputs": [],
   "source": [
    "import pandas as pd\n",
    "import datetime\n",
    "import math\n",
    "import glob\n",
    "path = \"*.xlsx\""
   ]
  },
  {
   "cell_type": "code",
   "execution_count": 2,
   "metadata": {
    "collapsed": false
   },
   "outputs": [],
   "source": [
    "df = pd.read_excel(\"ExcelFileFiverr (2).xlsx\",sheetname = \"Sheet1\")"
   ]
  },
  {
   "cell_type": "code",
   "execution_count": 3,
   "metadata": {
    "collapsed": false
   },
   "outputs": [],
   "source": [
    "DayL = ['Mon','Tue','Wed','Thu','Fri','Sat','Sun']\n",
    "df[\"WeekDay\"]= \"\"\n",
    "for row in range(df.shape[0]):\n",
    "    df[\"WeekDay\"].iat[row] = DayL[datetime.datetime.weekday(df[\"Date Sold\"].iat[row])]\n",
    "df = df.drop_duplicates(\"Date Sold\") "
   ]
  },
  {
   "cell_type": "code",
   "execution_count": 4,
   "metadata": {
    "collapsed": false
   },
   "outputs": [],
   "source": [
    "df_g = pd.groupby(df,[df[\";Company\"],df.WeekDay])"
   ]
  },
  {
   "cell_type": "code",
   "execution_count": 5,
   "metadata": {
    "collapsed": false,
    "scrolled": true
   },
   "outputs": [],
   "source": [
    "final_df = df_g.count()\n",
    "final_df = final_df[\"Date Sold\"]"
   ]
  },
  {
   "cell_type": "code",
   "execution_count": 6,
   "metadata": {
    "collapsed": false
   },
   "outputs": [],
   "source": [
    "final_df_update = pd.DataFrame(final_df)"
   ]
  },
  {
   "cell_type": "code",
   "execution_count": 7,
   "metadata": {
    "collapsed": false
   },
   "outputs": [],
   "source": [
    "new_df = final_df_update.unstack()\n",
    "\n",
    "total = {}\n",
    "list_day = [\"Fri\",\"Mon\",\"Sat\",\"Sun\",\"Thu\",\"Tue\",\"Wed\"]\n",
    "del_item = [\"(\",\")\",\"[\",\"]\"]\n",
    "\n",
    "def cleaning(x,y):\n",
    "    c=\"\"\n",
    "    for letter in x:\n",
    "        if not letter in y:\n",
    "            c+= letter\n",
    "    return c"
   ]
  },
  {
   "cell_type": "code",
   "execution_count": 8,
   "metadata": {
    "collapsed": false
   },
   "outputs": [
    {
     "name": "stderr",
     "output_type": "stream",
     "text": [
      "C:\\Users\\Shobeir\\Anaconda3\\lib\\site-packages\\ipykernel\\__main__.py:6: FutureWarning: irow(i) is deprecated. Please use .iloc[i]\n",
      "C:\\Users\\Shobeir\\Anaconda3\\lib\\site-packages\\ipykernel\\__main__.py:7: FutureWarning: irow(i) is deprecated. Please use .iloc[i]\n"
     ]
    }
   ],
   "source": [
    "output = open(\"output.csv\",\"w\")\n",
    "output.write(\"company,Top-Sale,Top-Day,Second-Sale,Second-Day,Third-Sale,Third-Day\\n\")\n",
    "for row in range(new_df.shape[0]):\n",
    "    total[new_df.index[row]]= {}\n",
    "    for day in range(7):\n",
    "        if not math.isnan(new_df.irow(row)[day]):\n",
    "            total[new_df.index[row]][new_df.irow(row)[day]] = list_day[day]\n",
    "#output.write(\"company, first_day, first_sale,second_day,second_sale,third_day,third_sale\\n\")            \n",
    "for item in total:\n",
    "    if len(total[item].items()) <= 3:\n",
    "        x = str(sorted(total[item].items(),reverse=True))\n",
    "        z = cleaning(x,del_item)\n",
    "        output.write(str(item).replace(\",\",\"\")+\",\"+ z +\"\\n\")\n",
    "    else:\n",
    "        x = str((sorted(total[item].items(),reverse=True))[:3])\n",
    "        z = cleaning(x,del_item)\n",
    "        output.write(str(item).replace(\",\",\"\")+\",\"+ z +\"\\n\")\n",
    "\n",
    "        \n",
    "output.close()"
   ]
  },
  {
   "cell_type": "code",
   "execution_count": null,
   "metadata": {
    "collapsed": true
   },
   "outputs": [],
   "source": []
  }
 ],
 "metadata": {
  "kernelspec": {
   "display_name": "Python 3",
   "language": "python",
   "name": "python3"
  },
  "language_info": {
   "codemirror_mode": {
    "name": "ipython",
    "version": 3
   },
   "file_extension": ".py",
   "mimetype": "text/x-python",
   "name": "python",
   "nbconvert_exporter": "python",
   "pygments_lexer": "ipython3",
   "version": "3.5.1"
  }
 },
 "nbformat": 4,
 "nbformat_minor": 0
}
