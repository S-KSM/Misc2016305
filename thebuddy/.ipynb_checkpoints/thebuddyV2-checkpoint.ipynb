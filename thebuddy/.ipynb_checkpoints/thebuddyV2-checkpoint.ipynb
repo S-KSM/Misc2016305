{
 "cells": [
  {
   "cell_type": "code",
   "execution_count": 1,
   "metadata": {
    "collapsed": true
   },
   "outputs": [],
   "source": [
    "import pandas as pd\n",
    "import datetime\n",
    "import math\n",
    "import glob\n",
    "path = \"*.xlsx\"\n",
    "\n",
    "def cleaning(x,y):\n",
    "    c=\"\"\n",
    "    for letter in x:\n",
    "        if not letter in y:\n",
    "            c+= letter\n",
    "    return c\n",
    "\n",
    "for file in glob.glob(path):\n",
    "    df = pd.read_excel(file,sheetname = \"Sheet1\")\n",
    "    DayL = ['Mon','Tue','Wed','Thu','Fri','Sat','Sun']\n",
    "    df[\"WeekDay\"]= \"\"\n",
    "    for row in range(df.shape[0]):\n",
    "        df[\"WeekDay\"].iat[row] = DayL[datetime.datetime.weekday(df[\"Date Sold\"].iat[row])]\n",
    "    \n",
    "    df = df.drop_duplicates(\"Date Sold\")\n",
    "    df_g = pd.groupby(df,[df[\";Company\"],df.WeekDay])\n",
    "    final_df = df_g.count()\n",
    "    final_df = final_df[\"Date Sold\"]\n",
    "    final_df_update = pd.DataFrame(final_df)\n",
    "    new_df = final_df_update.unstack()\n",
    "\n",
    "    total = {}\n",
    "    list_day = [\"Fri\",\"Mon\",\"Sat\",\"Sun\",\"Thu\",\"Tue\",\"Wed\"]\n",
    "    del_item = [\"(\",\")\",\"[\",\"]\"]\n",
    "    \n",
    "    outfile = file.split(\".\")[0]+\"csv\" \n",
    "\n",
    "    output = open(outfile,\"w\")\n",
    "    output.write(\"company,Top-Sale,Top-Day,Second-Sale,Second-Day,Third-Sale,Third-Day\\n\")\n",
    "    for row in range(new_df.shape[0]):\n",
    "        total[new_df.index[row]]= {}\n",
    "        for day in range(7):\n",
    "            if not math.isnan(new_df.irow(row)[day]):\n",
    "                total[new_df.index[row]][new_df.irow(row)[day]] = list_day[day]\n",
    "    \n",
    "    for item in total:\n",
    "        if len(total[item].items()) <= 3:\n",
    "            x = str(sorted(total[item].items(),reverse=True))\n",
    "            z = cleaning(x,del_item)\n",
    "            output.write(str(item).replace(\",\",\"\")+\",\"+ z +\"\\n\")\n",
    "        else:\n",
    "            x = str((sorted(total[item].items(),reverse=True))[:3])\n",
    "            z = cleaning(x,del_item)\n",
    "            output.write(str(item).replace(\",\",\"\")+\",\"+ z +\"\\n\")\n",
    "\n",
    "\n",
    "    output.close()"
   ]
  },
  {
   "cell_type": "code",
   "execution_count": null,
   "metadata": {
    "collapsed": true
   },
   "outputs": [],
   "source": []
  }
 ],
 "metadata": {
  "kernelspec": {
   "display_name": "Python 3",
   "language": "python",
   "name": "python3"
  },
  "language_info": {
   "codemirror_mode": {
    "name": "ipython",
    "version": 3
   },
   "file_extension": ".py",
   "mimetype": "text/x-python",
   "name": "python",
   "nbconvert_exporter": "python",
   "pygments_lexer": "ipython3",
   "version": "3.5.1"
  }
 },
 "nbformat": 4,
 "nbformat_minor": 0
}
